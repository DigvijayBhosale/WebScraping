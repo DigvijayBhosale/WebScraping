{
 "cells": [
  {
   "cell_type": "code",
   "execution_count": 18,
   "metadata": {},
   "outputs": [],
   "source": [
    "from bs4 import BeautifulSoup\n",
    "import requests\n",
    "import warnings\n",
    "warnings.filterwarnings('ignore')"
   ]
  },
  {
   "cell_type": "code",
   "execution_count": 19,
   "metadata": {},
   "outputs": [],
   "source": [
    "page=requests.get('https://bookpage.com/')\n",
    "soup=BeautifulSoup(page.content,'html.parser')\n",
    "title=soup.find_all('h4',class_='italic')\n",
    "\n"
   ]
  },
  {
   "cell_type": "code",
   "execution_count": 20,
   "metadata": {},
   "outputs": [
    {
     "data": {
      "text/plain": [
       "['Cozies: January 2021',\n",
       " '2021 preview: Most anticipated YA',\n",
       " 'Hades, Argentina',\n",
       " 'Outside, Inside',\n",
       " 'Outlawed',\n",
       " 'The Push']"
      ]
     },
     "execution_count": 20,
     "metadata": {},
     "output_type": "execute_result"
    }
   ],
   "source": [
    "name=[]\n",
    "for i in title:\n",
    "    name.append(i.get_text().replace(\"\\n\",\"\"))\n",
    "name"
   ]
  },
  {
   "cell_type": "code",
   "execution_count": 24,
   "metadata": {},
   "outputs": [],
   "source": [
    "page=requests.get('https://bookpage.com/')\n",
    "soup=BeautifulSoup(page.content,'html.parser')\n",
    "desc=soup.find_all('p',class_='excerpt')\n",
    "\n"
   ]
  },
  {
   "cell_type": "code",
   "execution_count": 25,
   "metadata": {},
   "outputs": [
    {
     "data": {
      "text/plain": [
       "[\"A priest, a Regency lady and a snippy private investigator are all faced with fiendish puzzles in this month's cozy mystery column.\",\n",
       " \"Our list of the YA books we can't wait to discover in 2021 has something for everyone.\",\n",
       " 'Readers of Daniel Loedel’s debut will bear witness to human choice and compunction, to love and loss, to the fantasy that helps make sense of what is real.',\n",
       " \"LeUyen Pham's picture book addresses the COVID-19 pandemic with sensitivity and compassion for young readers.\",\n",
       " 'This ain’t no Louis L’Amour tale. Outlawed is a gender-bending, genre-hopping yarn that’s part frontier novel and part Handmaid’s Tale.',\n",
       " 'Ashley Audrain’s gripping debut is proof that in the hands of the right storyteller, even the most compact novels can be works of great complexity.']"
      ]
     },
     "execution_count": 25,
     "metadata": {},
     "output_type": "execute_result"
    }
   ],
   "source": [
    "descrp=[]\n",
    "for i in desc:\n",
    "    descrp.append(i.get_text().replace(\"\\n\",\"\"))\n",
    "descrp"
   ]
  },
  {
   "cell_type": "code",
   "execution_count": 29,
   "metadata": {},
   "outputs": [
    {
     "data": {
      "text/plain": [
       "['Mystery & Suspense / Mystery / Cozy Mystery',\n",
       " 'Fiction / Literary Fiction',\n",
       " \"Children's / Children's Picture Book\",\n",
       " 'Fiction / Dystopian Fiction / Western',\n",
       " 'Fiction / Family Drama']"
      ]
     },
     "execution_count": 29,
     "metadata": {},
     "output_type": "execute_result"
    }
   ],
   "source": [
    "page=requests.get('https://bookpage.com/')\n",
    "soup=BeautifulSoup(page.content,'html.parser')\n",
    "genre=soup.find_all('p',class_='genre-links hidden-phone')\n",
    "\n",
    "genre1=[]\n",
    "for i in genre:\n",
    "    genre1.append(i.get_text().replace(\"\\n\",\"\"))\n",
    "genre1\n",
    "\n"
   ]
  },
  {
   "cell_type": "code",
   "execution_count": 28,
   "metadata": {},
   "outputs": [
    {
     "data": {
      "text/plain": [
       "['Feature by Heather Seggel',\n",
       " 'Feature by Stephanie, Associate Editor',\n",
       " 'Review by Freya Sachs',\n",
       " 'Review by Julie Danielson',\n",
       " 'Review by G. Robert Frazier',\n",
       " 'Review by Matthew Jackson']"
      ]
     },
     "execution_count": 28,
     "metadata": {},
     "output_type": "execute_result"
    }
   ],
   "source": [
    "page=requests.get('https://bookpage.com/')\n",
    "soup=BeautifulSoup(page.content,'html.parser')\n",
    "review=soup.find_all('p',class_='sans bold')\n",
    "\n",
    "reviewer=[]\n",
    "for i in review:\n",
    "    reviewer.append(i.get_text().replace(\"\\n\",\"\"))\n",
    "reviewer\n",
    "\n"
   ]
  },
  {
   "cell_type": "code",
   "execution_count": 30,
   "metadata": {},
   "outputs": [
    {
     "data": {
      "text/plain": [
       "['Hades, Argentina',\n",
       " 'Outlawed',\n",
       " 'Outside, Inside',\n",
       " 'The Push',\n",
       " 'I Dream of Popo',\n",
       " ' ★ Featherhood',\n",
       " 'The Sea Gate',\n",
       " 'A Crooked Tree',\n",
       " 'Slash and Burn',\n",
       " 'The Heiress']"
      ]
     },
     "execution_count": 30,
     "metadata": {},
     "output_type": "execute_result"
    }
   ],
   "source": [
    "page=requests.get('https://bookpage.com/reviews')\n",
    "soup=BeautifulSoup(page.content,'html.parser')\n",
    "name=soup.find_all('h4',class_='italic')\n",
    "\n",
    "Book_Name=[]\n",
    "for i in name:\n",
    "    Book_Name.append(i.get_text().replace(\"\\n\",\"\"))\n",
    "Book_Name\n",
    "\n"
   ]
  },
  {
   "cell_type": "code",
   "execution_count": 31,
   "metadata": {},
   "outputs": [
    {
     "data": {
      "text/plain": [
       "['Daniel Loedel',\n",
       " 'Anna North',\n",
       " 'LeUyen Pham',\n",
       " 'Ashley Audrain',\n",
       " 'Livia Blackburne, Julia Kuo',\n",
       " 'Charlie Gilmour',\n",
       " 'Jane Johnson',\n",
       " 'Una Mannion',\n",
       " 'Claudia Hernández, Julia Sanches',\n",
       " 'Molly Greeley']"
      ]
     },
     "execution_count": 31,
     "metadata": {},
     "output_type": "execute_result"
    }
   ],
   "source": [
    "page=requests.get('https://bookpage.com/reviews')\n",
    "soup=BeautifulSoup(page.content,'html.parser')\n",
    "author=soup.find_all('p',class_='sans bold')\n",
    "\n",
    "Author_name=[]\n",
    "for i in author:\n",
    "    Author_name.append(i.get_text().replace(\"\\n\",\"\"))\n",
    "Author_name\n",
    "\n"
   ]
  },
  {
   "cell_type": "code",
   "execution_count": 34,
   "metadata": {},
   "outputs": [
    {
     "data": {
      "text/plain": [
       "['Fiction / Literary Fiction',\n",
       " 'Fiction / Dystopian Fiction / Western',\n",
       " \"Children's / Children's Picture Book\",\n",
       " 'Fiction / Family Drama',\n",
       " \"Children's / Children's Picture Book\",\n",
       " 'Nonfiction / Biography & Memoir / Memoir',\n",
       " 'Fiction / Family Saga',\n",
       " 'Fiction / Coming of Age',\n",
       " 'Fiction / Historical Fiction',\n",
       " 'Fiction / Literary Fiction']"
      ]
     },
     "execution_count": 34,
     "metadata": {},
     "output_type": "execute_result"
    }
   ],
   "source": [
    "page=requests.get('https://bookpage.com/reviews')\n",
    "soup=BeautifulSoup(page.content,'html.parser')\n",
    "genre=soup.find_all('p',class_='genre-links hidden-phone')\n",
    "\n",
    "Genre=[]\n",
    "for i in genre:\n",
    "    Genre.append(i.get_text().replace(\"\\n\",\"\"))\n",
    "Genre\n",
    "\n"
   ]
  },
  {
   "cell_type": "code",
   "execution_count": 35,
   "metadata": {},
   "outputs": [
    {
     "data": {
      "text/plain": [
       "['As Tomás reenters the world of Argentina’s dirty war, time blurs, and the surreal blends with reality. As he relives trauma and torture, readers experience it with him, seeing a slice of history that is rarely talked about and feeling immersed in the ways that love, guilt and regret drive so many...',\n",
       " 'This ain’t no Louis L’Amour tale of the Wild West. Outlawed, the third novel by Anna North, is a gender-bending, genre-hopping yarn that’s part frontier novel, part Handmaid’s Tale and all ripsnorting fun.',\n",
       " 'LeUyen Pham’s Outside, Inside addresses the subject of the COVID-19 pandemic for young readers with sensitivity and compassion.',\n",
       " 'It’s easy to think of intimate, single-POV novels as somewhat simple narrative exercises, but Ashley Audrain’s gripping debut is proof that this is an illusion. In the hands of the right storyteller, even the most compact novels can be works of great complexity.',\n",
       " 'A young girl stays in touch with her beloved grandmother, Popo, when her family moves to the United States from Taiwan in this exuberant picture book.',\n",
       " 'In folklore, magpies are said to bring bad luck, but that certainly wasn’t the case for Charlie Gilmour. An abandoned baby bird helped this young British author finally exorcise the long shadow cast by his biological father, whoabandoned him as an infant.',\n",
       " 'Jane Johnson’s latest novel, The Sea Gate, is beautiful story of love, loss and pain, bouncing between wartime memories of the 1940s and present day.',\n",
       " 'As 15-year-old Libby Gallagher ponders several dark moments in rock ’n’ roll history, she muses, “It all said to me that chaotic and dark forces were spinning around us. One foot wrong, and you’d be pulled into the vortex.” Unfortunately, a multitude of missteps have...',\n",
       " 'Slash and Burn is an ember of a novel. Originally published in Spanish, this restrained narrative about a mother’s sacrifice surges with hot undercurrents of danger and memory.',\n",
       " 'Enter Molly Greeley’s novel The Heiress, an entertaining elaboration to satisfy generations of readers who have wondered and theorized about Anne de Bourgh. In perfectly Austenesque style, Greeley reveals the backstory of the Rosings Park heiress and just what made her so sickly, so...']"
      ]
     },
     "execution_count": 35,
     "metadata": {},
     "output_type": "execute_result"
    }
   ],
   "source": [
    "page=requests.get('https://bookpage.com/reviews')\n",
    "soup=BeautifulSoup(page.content,'html.parser')\n",
    "desc=soup.find_all('p',class_='excerpt')\n",
    "\n",
    "Description=[]\n",
    "for i in desc:\n",
    "    Description.append(i.get_text().replace(\"\\n\",\"\"))\n",
    "Description\n",
    "\n"
   ]
  },
  {
   "cell_type": "code",
   "execution_count": 36,
   "metadata": {},
   "outputs": [],
   "source": [
    "import pandas as pd"
   ]
  },
  {
   "cell_type": "code",
   "execution_count": 37,
   "metadata": {},
   "outputs": [
    {
     "data": {
      "text/html": [
       "<div>\n",
       "<style scoped>\n",
       "    .dataframe tbody tr th:only-of-type {\n",
       "        vertical-align: middle;\n",
       "    }\n",
       "\n",
       "    .dataframe tbody tr th {\n",
       "        vertical-align: top;\n",
       "    }\n",
       "\n",
       "    .dataframe thead th {\n",
       "        text-align: right;\n",
       "    }\n",
       "</style>\n",
       "<table border=\"1\" class=\"dataframe\">\n",
       "  <thead>\n",
       "    <tr style=\"text-align: right;\">\n",
       "      <th></th>\n",
       "      <th>Book_Name</th>\n",
       "      <th>Author</th>\n",
       "      <th>Genre</th>\n",
       "      <th>Description</th>\n",
       "    </tr>\n",
       "  </thead>\n",
       "  <tbody>\n",
       "    <tr>\n",
       "      <th>0</th>\n",
       "      <td>Hades, Argentina</td>\n",
       "      <td>Daniel Loedel</td>\n",
       "      <td>Fiction / Literary Fiction</td>\n",
       "      <td>As Tomás reenters the world of Argentina’s dir...</td>\n",
       "    </tr>\n",
       "    <tr>\n",
       "      <th>1</th>\n",
       "      <td>Outlawed</td>\n",
       "      <td>Anna North</td>\n",
       "      <td>Fiction / Dystopian Fiction / Western</td>\n",
       "      <td>This ain’t no Louis L’Amour tale of the Wild W...</td>\n",
       "    </tr>\n",
       "    <tr>\n",
       "      <th>2</th>\n",
       "      <td>Outside, Inside</td>\n",
       "      <td>LeUyen Pham</td>\n",
       "      <td>Children's / Children's Picture Book</td>\n",
       "      <td>LeUyen Pham’s Outside, Inside addresses the su...</td>\n",
       "    </tr>\n",
       "    <tr>\n",
       "      <th>3</th>\n",
       "      <td>The Push</td>\n",
       "      <td>Ashley Audrain</td>\n",
       "      <td>Fiction / Family Drama</td>\n",
       "      <td>It’s easy to think of intimate, single-POV nov...</td>\n",
       "    </tr>\n",
       "    <tr>\n",
       "      <th>4</th>\n",
       "      <td>I Dream of Popo</td>\n",
       "      <td>Livia Blackburne, Julia Kuo</td>\n",
       "      <td>Children's / Children's Picture Book</td>\n",
       "      <td>A young girl stays in touch with her beloved g...</td>\n",
       "    </tr>\n",
       "    <tr>\n",
       "      <th>5</th>\n",
       "      <td>★ Featherhood</td>\n",
       "      <td>Charlie Gilmour</td>\n",
       "      <td>Nonfiction / Biography &amp; Memoir / Memoir</td>\n",
       "      <td>In folklore, magpies are said to bring bad luc...</td>\n",
       "    </tr>\n",
       "    <tr>\n",
       "      <th>6</th>\n",
       "      <td>The Sea Gate</td>\n",
       "      <td>Jane Johnson</td>\n",
       "      <td>Fiction / Family Saga</td>\n",
       "      <td>Jane Johnson’s latest novel, The Sea Gate, is ...</td>\n",
       "    </tr>\n",
       "    <tr>\n",
       "      <th>7</th>\n",
       "      <td>A Crooked Tree</td>\n",
       "      <td>Una Mannion</td>\n",
       "      <td>Fiction / Coming of Age</td>\n",
       "      <td>As 15-year-old Libby Gallagher ponders several...</td>\n",
       "    </tr>\n",
       "    <tr>\n",
       "      <th>8</th>\n",
       "      <td>Slash and Burn</td>\n",
       "      <td>Claudia Hernández, Julia Sanches</td>\n",
       "      <td>Fiction / Historical Fiction</td>\n",
       "      <td>Slash and Burn is an ember of a novel. Origina...</td>\n",
       "    </tr>\n",
       "    <tr>\n",
       "      <th>9</th>\n",
       "      <td>The Heiress</td>\n",
       "      <td>Molly Greeley</td>\n",
       "      <td>Fiction / Literary Fiction</td>\n",
       "      <td>Enter Molly Greeley’s novel The Heiress, an en...</td>\n",
       "    </tr>\n",
       "  </tbody>\n",
       "</table>\n",
       "</div>"
      ],
      "text/plain": [
       "          Book_Name                            Author  \\\n",
       "0  Hades, Argentina                     Daniel Loedel   \n",
       "1          Outlawed                        Anna North   \n",
       "2   Outside, Inside                       LeUyen Pham   \n",
       "3          The Push                    Ashley Audrain   \n",
       "4   I Dream of Popo       Livia Blackburne, Julia Kuo   \n",
       "5     ★ Featherhood                   Charlie Gilmour   \n",
       "6      The Sea Gate                      Jane Johnson   \n",
       "7    A Crooked Tree                       Una Mannion   \n",
       "8    Slash and Burn  Claudia Hernández, Julia Sanches   \n",
       "9       The Heiress                     Molly Greeley   \n",
       "\n",
       "                                      Genre  \\\n",
       "0                Fiction / Literary Fiction   \n",
       "1     Fiction / Dystopian Fiction / Western   \n",
       "2      Children's / Children's Picture Book   \n",
       "3                    Fiction / Family Drama   \n",
       "4      Children's / Children's Picture Book   \n",
       "5  Nonfiction / Biography & Memoir / Memoir   \n",
       "6                     Fiction / Family Saga   \n",
       "7                   Fiction / Coming of Age   \n",
       "8              Fiction / Historical Fiction   \n",
       "9                Fiction / Literary Fiction   \n",
       "\n",
       "                                         Description  \n",
       "0  As Tomás reenters the world of Argentina’s dir...  \n",
       "1  This ain’t no Louis L’Amour tale of the Wild W...  \n",
       "2  LeUyen Pham’s Outside, Inside addresses the su...  \n",
       "3  It’s easy to think of intimate, single-POV nov...  \n",
       "4  A young girl stays in touch with her beloved g...  \n",
       "5  In folklore, magpies are said to bring bad luc...  \n",
       "6  Jane Johnson’s latest novel, The Sea Gate, is ...  \n",
       "7  As 15-year-old Libby Gallagher ponders several...  \n",
       "8  Slash and Burn is an ember of a novel. Origina...  \n",
       "9  Enter Molly Greeley’s novel The Heiress, an en...  "
      ]
     },
     "execution_count": 37,
     "metadata": {},
     "output_type": "execute_result"
    }
   ],
   "source": [
    "result=pd.DataFrame({'Book_Name': Book_Name,'Author':Author_name,'Genre':Genre,'Description':Description})\n",
    "result"
   ]
  },
  {
   "cell_type": "code",
   "execution_count": null,
   "metadata": {},
   "outputs": [],
   "source": []
  }
 ],
 "metadata": {
  "kernelspec": {
   "display_name": "Python 3",
   "language": "python",
   "name": "python3"
  },
  "language_info": {
   "codemirror_mode": {
    "name": "ipython",
    "version": 3
   },
   "file_extension": ".py",
   "mimetype": "text/x-python",
   "name": "python",
   "nbconvert_exporter": "python",
   "pygments_lexer": "ipython3",
   "version": "3.7.6"
  }
 },
 "nbformat": 4,
 "nbformat_minor": 4
}
